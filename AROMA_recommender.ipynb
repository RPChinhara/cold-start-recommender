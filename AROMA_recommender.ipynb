{
 "cells": [
  {
   "cell_type": "code",
   "execution_count": 1,
   "metadata": {},
   "outputs": [],
   "source": [
    "# Import modules\n",
    "import pandas as pd\n",
    "import numpy as np\n",
    "from scipy.sparse.linalg import svds\n",
    "from scipy.sparse import csr_matrix"
   ]
  },
  {
   "cell_type": "code",
   "execution_count": 2,
   "metadata": {},
   "outputs": [],
   "source": [
    "data = pd.read_csv('ml-100k/u.data', header= None , sep = '\\t')\n",
    "data.columns = ['user id' , 'movie id' , 'rating' , 'timestamp']\n",
    "data = data.drop(['timestamp'], axis=1)"
   ]
  },
  {
   "cell_type": "code",
   "execution_count": 3,
   "metadata": {},
   "outputs": [],
   "source": [
    "user_item_matrix = data.pivot_table(index='user id', columns='movie id', values='rating')\n",
    "user_item_matrix.fillna(0, inplace=True)"
   ]
  },
  {
   "cell_type": "code",
   "execution_count": 4,
   "metadata": {},
   "outputs": [],
   "source": [
    "user_item_matrix = csr_matrix(user_item_matrix)\n",
    "U, sigma, Vt = svds(user_item_matrix, k=20)\n",
    "# Reconstruct the user-item interaction matrix\n",
    "predicted_ratings = np.dot(np.dot(U, np.diag(sigma)), Vt)\n",
    "\n",
    "# Calculate item biases\n",
    "item_biases = np.mean(user_item_matrix - predicted_ratings, axis=0)"
   ]
  },
  {
   "cell_type": "code",
   "execution_count": 5,
   "metadata": {},
   "outputs": [],
   "source": [
    "items = pd.read_csv('ml-100k/u.item' , header = None , sep = \"|\" , encoding='latin-1')\n",
    "\n",
    "items.columns = ['movie id' , 'movie title' , 'release date' , 'video release date' ,\n",
    "              'IMDb URL' , 'unknown' , 'Action' , 'Adventure' , 'Animation' ,\n",
    "              'Childrens' , 'Comedy' , 'Crime' , 'Documentary' , 'Drama' , 'Fantasy' ,\n",
    "              'Film_Noir' , 'Horror' , 'Musical' , 'Mystery' , 'Romance' , 'Sci_Fi' ,\n",
    "              'Thriller' , 'War' , 'Western']\n",
    "\n",
    "items = items.drop(['movie title' , 'release date' , 'video release date' ,\n",
    "              'IMDb URL'], axis=1)\n",
    "\n",
    "items = items.set_index('movie id')"
   ]
  }
 ],
 "metadata": {
  "kernelspec": {
   "display_name": "cold-start-recommender",
   "language": "python",
   "name": "python3"
  },
  "language_info": {
   "codemirror_mode": {
    "name": "ipython",
    "version": 3
   },
   "file_extension": ".py",
   "mimetype": "text/x-python",
   "name": "python",
   "nbconvert_exporter": "python",
   "pygments_lexer": "ipython3",
   "version": "3.10.12"
  }
 },
 "nbformat": 4,
 "nbformat_minor": 2
}
