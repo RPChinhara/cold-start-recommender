{
 "cells": [
  {
   "cell_type": "code",
   "execution_count": 1,
   "metadata": {},
   "outputs": [],
   "source": [
    "# Import modules\n",
    "import pandas as pd\n",
    "import numpy as np\n",
    "from scipy.sparse.linalg import svds\n",
    "from scipy.sparse import csr_matrix\n",
    "from aroma import learnBPR"
   ]
  },
  {
   "cell_type": "code",
   "execution_count": 2,
   "metadata": {},
   "outputs": [],
   "source": [
    "data = pd.read_csv('ml-100k/u.data', header= None , sep = '\\t')\n",
    "data.columns = ['user id' , 'movie id' , 'rating' , 'timestamp']\n",
    "data = data.drop(['timestamp'], axis=1)\n",
    "sample_data = data.head(100)"
   ]
  },
  {
   "cell_type": "code",
   "execution_count": 3,
   "metadata": {},
   "outputs": [],
   "source": [
    "user_item_matrix = data.pivot_table(index='user id', columns='movie id', values='rating')\n",
    "user_item_matrix.fillna(0, inplace=True)"
   ]
  },
  {
   "cell_type": "code",
   "execution_count": 4,
   "metadata": {},
   "outputs": [],
   "source": [
    "user_item_matrix_sparse = csr_matrix(user_item_matrix)\n",
    "U, sigma, Vt = svds(user_item_matrix_sparse, k=20)\n",
    "# Reconstruct the user-item interaction matrix\n",
    "predicted_ratings = np.dot(np.dot(U, np.diag(sigma)), Vt) # type: ignore\n",
    "\n",
    "# Calculate item biases\n",
    "item_biases = np.mean(user_item_matrix_sparse - predicted_ratings, axis=0).tolist()[0]"
   ]
  },
  {
   "cell_type": "code",
   "execution_count": 5,
   "metadata": {},
   "outputs": [],
   "source": [
    "items = pd.read_csv('ml-100k/u.item' , header = None , sep = \"|\" , encoding='latin-1')\n",
    "\n",
    "items.columns = ['movie id' , 'movie title' , 'release date' , 'video release date' ,\n",
    "              'IMDb URL' , 'unknown' , 'Action' , 'Adventure' , 'Animation' ,\n",
    "              'Childrens' , 'Comedy' , 'Crime' , 'Documentary' , 'Drama' , 'Fantasy' ,\n",
    "              'Film_Noir' , 'Horror' , 'Musical' , 'Mystery' , 'Romance' , 'Sci_Fi' ,\n",
    "              'Thriller' , 'War' , 'Western']\n",
    "\n",
    "items = items.drop(['movie title' , 'release date' , 'video release date' ,\n",
    "              'IMDb URL'], axis=1)\n",
    "\n",
    "items = items.set_index('movie id')"
   ]
  },
  {
   "cell_type": "code",
   "execution_count": 6,
   "metadata": {},
   "outputs": [],
   "source": [
    "A = []\n",
    "\n",
    "for _, row_i in sample_data.iterrows():\n",
    "    ui, i, ri = row_i['user id'], row_i['movie id'], row_i['rating']\n",
    "    for _, row_j in sample_data.iterrows():\n",
    "        uj, j, rj = row_j['user id'], row_j['movie id'], row_j['rating']\n",
    "\n",
    "        if ui != uj or i == j:\n",
    "            continue\n",
    "        if ri > rj:\n",
    "            A.append((int(ui), int(i), int(j)))"
   ]
  },
  {
   "cell_type": "code",
   "execution_count": 7,
   "metadata": {},
   "outputs": [],
   "source": [
    "user_latent_vectors = learnBPR(user_item_matrix.values, A, items.values, item_biases)"
   ]
  }
 ],
 "metadata": {
  "kernelspec": {
   "display_name": "cold-start-recommender",
   "language": "python",
   "name": "python3"
  },
  "language_info": {
   "codemirror_mode": {
    "name": "ipython",
    "version": 3
   },
   "file_extension": ".py",
   "mimetype": "text/x-python",
   "name": "python",
   "nbconvert_exporter": "python",
   "pygments_lexer": "ipython3",
   "version": "3.10.12"
  }
 },
 "nbformat": 4,
 "nbformat_minor": 2
}
